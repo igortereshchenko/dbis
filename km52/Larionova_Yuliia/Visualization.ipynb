{
 "cells": [
  {
   "cell_type": "code",
   "execution_count": 1,
   "metadata": {},
   "outputs": [],
   "source": [
    "import re\n",
    "import cx_Oracle\n",
    "import pandas as pd\n",
    "import plotly\n",
    "import plotly.plotly as py\n",
    "import plotly.graph_objs as go\n",
    "import plotly.dashboard_objs as dashboard"
   ]
  },
  {
   "cell_type": "code",
   "execution_count": 2,
   "metadata": {},
   "outputs": [],
   "source": [
    "user_name = 'larionova'\n",
    "password = 'pass'\n",
    "server = 'orcl'"
   ]
  },
  {
   "cell_type": "code",
   "execution_count": 3,
   "metadata": {},
   "outputs": [],
   "source": [
    "connection = cx_Oracle.connect(user_name, password, server)\n",
    "\n",
    "plotly.tools.set_credentials_file(username='larionovajul', api_key='QnpxdRbyMGGRqXpQDwXS')"
   ]
  },
  {
   "cell_type": "markdown",
   "metadata": {},
   "source": [
    "# Total records in all cards of all people"
   ]
  },
  {
   "cell_type": "markdown",
   "metadata": {},
   "source": [
    "## Bar chart"
   ]
  },
  {
   "cell_type": "code",
   "execution_count": 4,
   "metadata": {},
   "outputs": [],
   "source": [
    "sql = '''\n",
    "Select count(desks.serial_number)desks_count, buildings.building_adress\n",
    "from buildings\n",
    "join desks on buildings.building_adress = desks.building_adress\n",
    "group by buildings.building_adress\n",
    "'''"
   ]
  },
  {
   "cell_type": "code",
   "execution_count": 5,
   "metadata": {},
   "outputs": [
    {
     "data": {
      "text/html": [
       "<div>\n",
       "<style scoped>\n",
       "    .dataframe tbody tr th:only-of-type {\n",
       "        vertical-align: middle;\n",
       "    }\n",
       "\n",
       "    .dataframe tbody tr th {\n",
       "        vertical-align: top;\n",
       "    }\n",
       "\n",
       "    .dataframe thead th {\n",
       "        text-align: right;\n",
       "    }\n",
       "</style>\n",
       "<table border=\"1\" class=\"dataframe\">\n",
       "  <thead>\n",
       "    <tr style=\"text-align: right;\">\n",
       "      <th></th>\n",
       "      <th>DESKS_COUNT</th>\n",
       "      <th>BUILDING_ADRESS</th>\n",
       "    </tr>\n",
       "  </thead>\n",
       "  <tbody>\n",
       "    <tr>\n",
       "      <th>0</th>\n",
       "      <td>3</td>\n",
       "      <td>Politekhnichna Street, 14a</td>\n",
       "    </tr>\n",
       "    <tr>\n",
       "      <th>1</th>\n",
       "      <td>1</td>\n",
       "      <td>Politekhnichna Street, 33</td>\n",
       "    </tr>\n",
       "    <tr>\n",
       "      <th>2</th>\n",
       "      <td>6</td>\n",
       "      <td>Ave Victory, 37</td>\n",
       "    </tr>\n",
       "    <tr>\n",
       "      <th>3</th>\n",
       "      <td>1</td>\n",
       "      <td>Politekhnichna Street, 41</td>\n",
       "    </tr>\n",
       "    <tr>\n",
       "      <th>4</th>\n",
       "      <td>3</td>\n",
       "      <td>Politekhnichna Street, 39</td>\n",
       "    </tr>\n",
       "  </tbody>\n",
       "</table>\n",
       "</div>"
      ],
      "text/plain": [
       "   DESKS_COUNT             BUILDING_ADRESS\n",
       "0            3  Politekhnichna Street, 14a\n",
       "1            1   Politekhnichna Street, 33\n",
       "2            6             Ave Victory, 37\n",
       "3            1   Politekhnichna Street, 41\n",
       "4            3   Politekhnichna Street, 39"
      ]
     },
     "execution_count": 5,
     "metadata": {},
     "output_type": "execute_result"
    }
   ],
   "source": [
    "df = pd.read_sql_query(sql, connection)\n",
    "df"
   ]
  },
  {
   "cell_type": "code",
   "execution_count": 8,
   "metadata": {},
   "outputs": [
    {
     "data": {
      "text/plain": [
       "'https://plot.ly/~larionovajul/4'"
      ]
     },
     "execution_count": 8,
     "metadata": {},
     "output_type": "execute_result"
    }
   ],
   "source": [
    "data = [go.Bar(\n",
    "            x=df['BUILDING_ADRESS'],\n",
    "            y=df['DESKS_COUNT']\n",
    ")]\n",
    "layout = go.Layout(\n",
    "    title='Total desks in all classrooms in every buildings',\n",
    "    xaxis=dict(\n",
    "        title='Buildings adress',\n",
    "        titlefont=dict(family='Courier New, monospace',size=18,color='#7f7f7f')\n",
    "    ),\n",
    "    yaxis=dict(\n",
    "        title='Total desks in all buildings',\n",
    "        rangemode='nonnegative',\n",
    "        autorange=True,\n",
    "        titlefont=dict(family='Courier New, monospace',size=18,color='#7f7f7f')\n",
    "    )\n",
    ")\n",
    "fig = go.Figure(data=data, layout=layout)\n",
    "\n",
    "py.plot(fig)"
   ]
  },
  {
   "cell_type": "markdown",
   "metadata": {},
   "source": [
    "## Pie chart"
   ]
  },
  {
   "cell_type": "code",
   "execution_count": 9,
   "metadata": {},
   "outputs": [
    {
     "data": {
      "text/plain": [
       "'https://plot.ly/~larionovajul/6'"
      ]
     },
     "execution_count": 9,
     "metadata": {},
     "output_type": "execute_result"
    }
   ],
   "source": [
    "pie = go.Pie(labels=df['BUILDING_ADRESS'], values=df['DESKS_COUNT'])\n",
    "py.plot([pie])"
   ]
  },
  {
   "cell_type": "markdown",
   "metadata": {},
   "source": [
    "## Scatter"
   ]
  },
  {
   "cell_type": "code",
   "execution_count": 17,
   "metadata": {},
   "outputs": [
    {
     "data": {
      "text/html": [
       "<div>\n",
       "<style scoped>\n",
       "    .dataframe tbody tr th:only-of-type {\n",
       "        vertical-align: middle;\n",
       "    }\n",
       "\n",
       "    .dataframe tbody tr th {\n",
       "        vertical-align: top;\n",
       "    }\n",
       "\n",
       "    .dataframe thead th {\n",
       "        text-align: right;\n",
       "    }\n",
       "</style>\n",
       "<table border=\"1\" class=\"dataframe\">\n",
       "  <thead>\n",
       "    <tr style=\"text-align: right;\">\n",
       "      <th></th>\n",
       "      <th>DESKS_COUNT</th>\n",
       "      <th>NUMBER_OF_FLOORS</th>\n",
       "    </tr>\n",
       "  </thead>\n",
       "  <tbody>\n",
       "    <tr>\n",
       "      <th>0</th>\n",
       "      <td>6</td>\n",
       "      <td>2</td>\n",
       "    </tr>\n",
       "    <tr>\n",
       "      <th>1</th>\n",
       "      <td>1</td>\n",
       "      <td>3</td>\n",
       "    </tr>\n",
       "    <tr>\n",
       "      <th>2</th>\n",
       "      <td>3</td>\n",
       "      <td>5</td>\n",
       "    </tr>\n",
       "    <tr>\n",
       "      <th>3</th>\n",
       "      <td>3</td>\n",
       "      <td>5</td>\n",
       "    </tr>\n",
       "    <tr>\n",
       "      <th>4</th>\n",
       "      <td>1</td>\n",
       "      <td>5</td>\n",
       "    </tr>\n",
       "  </tbody>\n",
       "</table>\n",
       "</div>"
      ],
      "text/plain": [
       "   DESKS_COUNT  NUMBER_OF_FLOORS\n",
       "0            6                 2\n",
       "1            1                 3\n",
       "2            3                 5\n",
       "3            3                 5\n",
       "4            1                 5"
      ]
     },
     "execution_count": 17,
     "metadata": {},
     "output_type": "execute_result"
    }
   ],
   "source": [
    "sql = '''\n",
    "Select count(desks.serial_number)desks_count, buildings.number_of_floors\n",
    "from buildings\n",
    "join desks on buildings.building_adress = desks.building_adress\n",
    "group by buildings.number_of_floors, buildings.building_adress\n",
    "order by number_of_floors\n",
    "'''\n",
    "\n",
    "df = pd.read_sql_query(sql, connection)\n",
    "df"
   ]
  },
  {
   "cell_type": "code",
   "execution_count": 21,
   "metadata": {},
   "outputs": [
    {
     "data": {
      "text/plain": [
       "'https://plot.ly/~larionovajul/20'"
      ]
     },
     "execution_count": 21,
     "metadata": {},
     "output_type": "execute_result"
    }
   ],
   "source": [
    "desks_floors = go.Scatter(\n",
    "    x=df['NUMBER_OF_FLOORS'],\n",
    "    y=df['DESKS_COUNT'],\n",
    "    mode='lines+markers'\n",
    ")\n",
    "data = [desks_floors]\n",
    "\n",
    "layout = go.Layout(\n",
    "    title='Relation number of floors in buildings with desks amount',\n",
    "    xaxis=dict(\n",
    "        title='Number of floors',\n",
    "        titlefont=dict(family='Courier New, monospace',size=18,color='#7f7f7f')\n",
    "    ),\n",
    "    yaxis=dict(\n",
    "        title='Total desks in all buildings',\n",
    "        rangemode='nonnegative',\n",
    "        autorange=True,\n",
    "        titlefont=dict(family='Courier New, monospace',size=18,color='#7f7f7f')\n",
    "    )\n",
    ")\n",
    "fig = go.Figure(data=data, layout=layout)\n",
    "py.plot(fig)"
   ]
  },
  {
   "cell_type": "code",
   "execution_count": null,
   "metadata": {},
   "outputs": [],
   "source": []
  },
  {
   "cell_type": "code",
   "execution_count": null,
   "metadata": {},
   "outputs": [],
   "source": []
  }
 ],
 "metadata": {
  "kernelspec": {
   "display_name": "Python 3",
   "language": "python",
   "name": "python3"
  },
  "language_info": {
   "codemirror_mode": {
    "name": "ipython",
    "version": 3
   },
   "file_extension": ".py",
   "mimetype": "text/x-python",
   "name": "python",
   "nbconvert_exporter": "python",
   "pygments_lexer": "ipython3",
   "version": "3.6.4"
  }
 },
 "nbformat": 4,
 "nbformat_minor": 2
}
