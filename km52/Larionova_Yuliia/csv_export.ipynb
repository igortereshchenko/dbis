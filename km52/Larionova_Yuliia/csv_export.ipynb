{
 "cells": [
  {
   "cell_type": "markdown",
   "metadata": {},
   "source": [
    "# Exporting to CSV"
   ]
  },
  {
   "cell_type": "code",
   "execution_count": 3,
   "metadata": {},
   "outputs": [
    {
     "name": "stdout",
     "output_type": "stream",
     "text": [
      "   BUILDING_ADRESS  CLASSROOM_NUMBER\n",
      "0  Ave Victory, 37                15 \n",
      "\n",
      "             BUILDING_ADRESS  CLASSROOM_NUMBER\n",
      "0  Politekhnichna Street, 33               362 \n",
      "\n",
      "             BUILDING_ADRESS  CLASSROOM_NUMBER\n",
      "0  Politekhnichna Street, 41               125 \n",
      "\n",
      "             BUILDING_ADRESS  CLASSROOM_NUMBER\n",
      "0  Politekhnichna Street, 39               305 \n",
      "\n",
      "              BUILDING_ADRESS  CLASSROOM_NUMBER\n",
      "0  Politekhnichna Street, 14a                 1 \n",
      "\n"
     ]
    }
   ],
   "source": [
    "import csv\n",
    "import pandas as pd\n",
    "import cx_Oracle\n",
    "\n",
    "user_name = 'larionova'\n",
    "password = 'pass'\n",
    "server = 'orcl'\n",
    "\n",
    "connection = cx_Oracle.connect(user_name, password, server)\n",
    "\n",
    "sql = \"\"\"\n",
    "SELECT\n",
    "    building_adress\n",
    "FROM buildings\n",
    "\"\"\"\n",
    "df = pd.read_sql_query(sql, connection)\n",
    "\n",
    "for _index, row in df.iterrows():\n",
    "    b_address = row[0]\n",
    "    with open(\"building \"+b_address+\".csv\", \"w\", newline='') as file:\n",
    "        writer = csv.writer(file)\n",
    "        writer.writerow([\"Building_adress\", b_address])\n",
    "        writer.writerow([])\n",
    "        \n",
    "        inner_sql = f\"\"\"\n",
    "            SELECT\n",
    "                building_adress,\n",
    "                classroom_number\n",
    "            FROM classrooms\n",
    "            WHERE building_adress = '{b_address}'\n",
    "        \"\"\"\n",
    "        inner_df = pd.read_sql_query(inner_sql, connection)\n",
    "        print(inner_df, '\\n')\n",
    "  \n",
    "        writer.writerow([\"building_adress\", \"classroom_number\"])\n",
    "        for _index, inner_row in inner_df.iterrows():\n",
    "            writer.writerow(inner_row)"
   ]
  },
  {
   "cell_type": "code",
   "execution_count": null,
   "metadata": {},
   "outputs": [],
   "source": []
  }
 ],
 "metadata": {
  "kernelspec": {
   "display_name": "Python 3",
   "language": "python",
   "name": "python3"
  },
  "language_info": {
   "codemirror_mode": {
    "name": "ipython",
    "version": 3
   },
   "file_extension": ".py",
   "mimetype": "text/x-python",
   "name": "python",
   "nbconvert_exporter": "python",
   "pygments_lexer": "ipython3",
   "version": "3.6.4"
  }
 },
 "nbformat": 4,
 "nbformat_minor": 2
}
