{
 "cells": [
  {
   "cell_type": "code",
   "execution_count": 2,
   "metadata": {},
   "outputs": [],
   "source": [
    "import re\n",
    "import cx_Oracle\n",
    "import pandas as pd\n",
    "import plotly\n",
    "import plotly.plotly as py\n",
    "import plotly.graph_objs as go\n",
    "import plotly.dashboard_objs as dashboard"
   ]
  },
  {
   "cell_type": "code",
   "execution_count": 4,
   "metadata": {},
   "outputs": [],
   "source": [
    "user_name = 'kholin_n'\n",
    "password = 'pass'\n",
    "server = 'orcl'"
   ]
  },
  {
   "cell_type": "code",
   "execution_count": 5,
   "metadata": {},
   "outputs": [],
   "source": [
    "connection = cx_Oracle.connect(user_name, password, server)\n",
    "\n",
    "plotly.tools.set_credentials_file(username='hmlon', api_key='fkwbP4cBYn4MM4Xy6IgZ')"
   ]
  },
  {
   "cell_type": "markdown",
   "metadata": {},
   "source": [
    "# Total records in all cards of all people"
   ]
  },
  {
   "cell_type": "markdown",
   "metadata": {},
   "source": [
    "## Bar chart"
   ]
  },
  {
   "cell_type": "code",
   "execution_count": 6,
   "metadata": {},
   "outputs": [
    {
     "data": {
      "text/html": [
       "<div>\n",
       "<style scoped>\n",
       "    .dataframe tbody tr th:only-of-type {\n",
       "        vertical-align: middle;\n",
       "    }\n",
       "\n",
       "    .dataframe tbody tr th {\n",
       "        vertical-align: top;\n",
       "    }\n",
       "\n",
       "    .dataframe thead th {\n",
       "        text-align: right;\n",
       "    }\n",
       "</style>\n",
       "<table border=\"1\" class=\"dataframe\">\n",
       "  <thead>\n",
       "    <tr style=\"text-align: right;\">\n",
       "      <th></th>\n",
       "      <th>NAME</th>\n",
       "      <th>CARD_RECORDS_COUNT</th>\n",
       "    </tr>\n",
       "  </thead>\n",
       "  <tbody>\n",
       "    <tr>\n",
       "      <th>0</th>\n",
       "      <td>Larionova Jul</td>\n",
       "      <td>0</td>\n",
       "    </tr>\n",
       "    <tr>\n",
       "      <th>1</th>\n",
       "      <td>Someone Else</td>\n",
       "      <td>0</td>\n",
       "    </tr>\n",
       "    <tr>\n",
       "      <th>2</th>\n",
       "      <td>Nikita Kholin</td>\n",
       "      <td>3</td>\n",
       "    </tr>\n",
       "  </tbody>\n",
       "</table>\n",
       "</div>"
      ],
      "text/plain": [
       "            NAME  CARD_RECORDS_COUNT\n",
       "0  Larionova Jul                   0\n",
       "1   Someone Else                   0\n",
       "2  Nikita Kholin                   3"
      ]
     },
     "execution_count": 6,
     "metadata": {},
     "output_type": "execute_result"
    }
   ],
   "source": [
    "sql = '''\n",
    "select \n",
    "    first_name || ' ' || last_name as name,\n",
    "    count(card_records.card_record_id) as card_records_count\n",
    "from people\n",
    "    inner join cards on cards.person_id = people.person_id\n",
    "    left join card_records on card_records.card_id = cards.card_id\n",
    "group by first_name, last_name\n",
    "'''\n",
    "\n",
    "df = pd.read_sql_query(sql, connection)\n",
    "df"
   ]
  },
  {
   "cell_type": "code",
   "execution_count": 168,
   "metadata": {},
   "outputs": [
    {
     "data": {
      "text/plain": [
       "'https://plot.ly/~hmlon/16'"
      ]
     },
     "execution_count": 168,
     "metadata": {},
     "output_type": "execute_result"
    }
   ],
   "source": [
    "data = [go.Bar(\n",
    "            x=df['NAME'],\n",
    "            y=df['CARD_RECORDS_COUNT']\n",
    ")]\n",
    "layout = go.Layout(\n",
    "    title='Total records in all cards of all people',\n",
    "    xaxis=dict(\n",
    "        title='People',\n",
    "        titlefont=dict(family='Courier New, monospace',size=18,color='#7f7f7f')\n",
    "    ),\n",
    "    yaxis=dict(\n",
    "        title='Total records in all cards',\n",
    "        rangemode='nonnegative',\n",
    "        autorange=True,\n",
    "        titlefont=dict(family='Courier New, monospace',size=18,color='#7f7f7f')\n",
    "    )\n",
    ")\n",
    "fig = go.Figure(data=data, layout=layout)\n",
    "\n",
    "py.plot(fig)"
   ]
  },
  {
   "cell_type": "markdown",
   "metadata": {},
   "source": [
    "## Pie chart"
   ]
  },
  {
   "cell_type": "code",
   "execution_count": 167,
   "metadata": {},
   "outputs": [
    {
     "data": {
      "text/plain": [
       "'https://plot.ly/~hmlon/14'"
      ]
     },
     "execution_count": 167,
     "metadata": {},
     "output_type": "execute_result"
    }
   ],
   "source": [
    "pie = go.Pie(labels=df['NAME'], values=df['CARD_RECORDS_COUNT'])\n",
    "py.plot([pie])"
   ]
  },
  {
   "cell_type": "markdown",
   "metadata": {},
   "source": [
    "# Visits dynamics"
   ]
  },
  {
   "cell_type": "markdown",
   "metadata": {},
   "source": [
    "## Scatter"
   ]
  },
  {
   "cell_type": "code",
   "execution_count": 32,
   "metadata": {},
   "outputs": [
    {
     "data": {
      "text/html": [
       "<div>\n",
       "<style scoped>\n",
       "    .dataframe tbody tr th:only-of-type {\n",
       "        vertical-align: middle;\n",
       "    }\n",
       "\n",
       "    .dataframe tbody tr th {\n",
       "        vertical-align: top;\n",
       "    }\n",
       "\n",
       "    .dataframe thead th {\n",
       "        text-align: right;\n",
       "    }\n",
       "</style>\n",
       "<table border=\"1\" class=\"dataframe\">\n",
       "  <thead>\n",
       "    <tr style=\"text-align: right;\">\n",
       "      <th></th>\n",
       "      <th>VISITED_AT</th>\n",
       "      <th>VISITS_COUNT</th>\n",
       "    </tr>\n",
       "  </thead>\n",
       "  <tbody>\n",
       "    <tr>\n",
       "      <th>0</th>\n",
       "      <td>2017-04-18 13:37:00</td>\n",
       "      <td>1</td>\n",
       "    </tr>\n",
       "    <tr>\n",
       "      <th>1</th>\n",
       "      <td>2017-04-18 14:48:00</td>\n",
       "      <td>2</td>\n",
       "    </tr>\n",
       "    <tr>\n",
       "      <th>2</th>\n",
       "      <td>2017-04-18 15:32:00</td>\n",
       "      <td>3</td>\n",
       "    </tr>\n",
       "  </tbody>\n",
       "</table>\n",
       "</div>"
      ],
      "text/plain": [
       "           VISITED_AT  VISITS_COUNT\n",
       "0 2017-04-18 13:37:00             1\n",
       "1 2017-04-18 14:48:00             2\n",
       "2 2017-04-18 15:32:00             3"
      ]
     },
     "execution_count": 32,
     "metadata": {},
     "output_type": "execute_result"
    }
   ],
   "source": [
    "sql = '''\n",
    "select \n",
    "    a.visited_at,\n",
    "    (select count(*)\n",
    "        from card_records b\n",
    "        where b.visited_at <= a.visited_at) as visits_count\n",
    "from card_records a\n",
    "'''\n",
    "\n",
    "df = pd.read_sql_query(sql, connection)\n",
    "df"
   ]
  },
  {
   "cell_type": "code",
   "execution_count": 33,
   "metadata": {},
   "outputs": [
    {
     "data": {
      "text/plain": [
       "'https://plot.ly/~hmlon/20'"
      ]
     },
     "execution_count": 33,
     "metadata": {},
     "output_type": "execute_result"
    }
   ],
   "source": [
    "order_date_prices = go.Scatter(\n",
    "    x=df['VISITED_AT'],\n",
    "    y=df['VISITS_COUNT'],\n",
    "    mode='lines+markers'\n",
    ")\n",
    "data = [order_date_prices]\n",
    "py.plot(data)"
   ]
  },
  {
   "cell_type": "markdown",
   "metadata": {},
   "source": [
    "# Exporting to CSV"
   ]
  },
  {
   "cell_type": "code",
   "execution_count": 58,
   "metadata": {},
   "outputs": [],
   "source": [
    "import csv \n",
    "\n",
    "sql = \"\"\"\n",
    "SELECT\n",
    "    doctor_id,\n",
    "    first_name || ' ' || last_name as name\n",
    "FROM doctors\n",
    "\"\"\"\n",
    "df = pd.read_sql_query(sql, connection)\n",
    " \n",
    "for _index, row in df.iterrows():\n",
    "    id, name = row\n",
    "    with open(\"doctor_\"+id+\".csv\", \"w\", newline='') as file:\n",
    "        writer = csv.writer(file)\n",
    "        writer.writerow([\"ID\", id])\n",
    "        writer.writerow([\"Name\", name])\n",
    "        \n",
    "        inner_sql = f\"\"\"\n",
    "            SELECT\n",
    "                first_name || ' ' || last_name as name,\n",
    "                visited_at\n",
    "            FROM card_records\n",
    "            WHERE doctor_id = {id}\n",
    "        \"\"\"\n",
    "        inner_df = pd.read_sql_query(inner_sql, connection) \n",
    "  \n",
    "        writer.writerow([])\n",
    "        writer.writerow([\"Client name\", \"Visited at\"])\n",
    "        for _index, inner_row in inner_df.iterrows():\n",
    "            writer.writerow(inner_row)"
   ]
  },
  {
   "cell_type": "code",
   "execution_count": null,
   "metadata": {},
   "outputs": [],
   "source": []
  }
 ],
 "metadata": {
  "kernelspec": {
   "display_name": "Python 3",
   "language": "python",
   "name": "python3"
  },
  "language_info": {
   "codemirror_mode": {
    "name": "ipython",
    "version": 3
   },
   "file_extension": ".py",
   "mimetype": "text/x-python",
   "name": "python",
   "nbconvert_exporter": "python",
   "pygments_lexer": "ipython3",
   "version": "3.6.4"
  }
 },
 "nbformat": 4,
 "nbformat_minor": 2
}
