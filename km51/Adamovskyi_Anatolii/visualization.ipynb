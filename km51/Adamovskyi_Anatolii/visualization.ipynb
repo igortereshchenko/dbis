{
 "cells": [
  {
   "cell_type": "code",
   "execution_count": 1,
   "metadata": {
    "collapsed": true
   },
   "outputs": [],
   "source": [
    "import re\n",
    "import cx_Oracle\n",
    "import pandas as pd\n",
    "import plotly.plotly as py\n",
    "import plotly.graph_objs as go\n",
    "import plotly.dashboard_objs as dashboard"
   ]
  },
  {
   "cell_type": "code",
   "execution_count": 2,
   "metadata": {
    "collapsed": true
   },
   "outputs": [],
   "source": [
    "user_name = 'reviwe_ihor'\n",
    "password = 'password'\n",
    "server = 'xe'"
   ]
  },
  {
   "cell_type": "code",
   "execution_count": 3,
   "metadata": {
    "collapsed": true
   },
   "outputs": [],
   "source": [
    "def fileId_from_url(url):\n",
    "    \"\"\"Return fileId from a url.\"\"\"\n",
    "    raw_fileId = re.findall(\"~[A-z.]+/[0-9]+\", url)[0][1: ]\n",
    "    return raw_fileId.replace('/', ':')"
   ]
  },
  {
   "cell_type": "code",
   "execution_count": 4,
   "metadata": {
    "collapsed": true
   },
   "outputs": [],
   "source": [
    "connection = cx_Oracle.connect(user_name, password, server)"
   ]
  },
  {
   "cell_type": "markdown",
   "metadata": {},
   "source": [
    "### Вивести довжину описа кожної програми"
   ]
  },
  {
   "cell_type": "code",
   "execution_count": 5,
   "metadata": {
    "collapsed": true
   },
   "outputs": [],
   "source": [
    "sql_1 = '''\n",
    "SELECT\n",
    "    soft_name,\n",
    "    version,\n",
    "    length(description) len_desc\n",
    "FROM\n",
    "    software\n",
    "'''"
   ]
  },
  {
   "cell_type": "code",
   "execution_count": 6,
   "metadata": {
    "scrolled": false
   },
   "outputs": [],
   "source": [
    "df = pd.read_sql_query(sql_1, connection)"
   ]
  },
  {
   "cell_type": "code",
   "execution_count": 7,
   "metadata": {},
   "outputs": [],
   "source": [
    "data = [\n",
    "    go.Bar(\n",
    "        x= df['SOFT_NAME'] + ' ' + df['VERSION'],\n",
    "        y= df['LEN_DESC']\n",
    "    )\n",
    "]\n",
    " \n",
    "layout = go.Layout(\n",
    "    title='Soft name and Len description',\n",
    "    xaxis=dict(\n",
    "        title='Soft name',\n",
    "        titlefont=dict(\n",
    "            family='Courier New, monospace',\n",
    "            size=18,\n",
    "            color='#7f7f7f'\n",
    "        )\n",
    "    ),\n",
    "    yaxis=dict(\n",
    "        title='Len description',\n",
    "        rangemode='nonnegative',\n",
    "        autorange=True,\n",
    "        titlefont=dict(\n",
    "            family='Courier New, monospace',\n",
    "            size=18,\n",
    "            color='#7f7f7f'\n",
    "        )\n",
    "    )\n",
    ")\n",
    "\n",
    "fig = go.Figure(data=data, layout=layout)\n",
    " \n",
    "soft_name_len_desc = py.iplot(fig, filename='soft-name-len-desc')"
   ]
  },
  {
   "cell_type": "code",
   "execution_count": 8,
   "metadata": {},
   "outputs": [
    {
     "data": {
      "text/html": [
       "<iframe id=\"igraph\" scrolling=\"no\" style=\"border:none;\" seamless=\"seamless\" src=\"https://plot.ly/~adamobskiy/9.embed\" height=\"525px\" width=\"100%\"></iframe>"
      ],
      "text/plain": [
       "<plotly.tools.PlotlyDisplay object>"
      ]
     },
     "execution_count": 8,
     "metadata": {},
     "output_type": "execute_result"
    }
   ],
   "source": [
    "soft_name_len_desc"
   ]
  },
  {
   "cell_type": "markdown",
   "metadata": {},
   "source": [
    "### Вивисти кількість комп'ютерів у кожного власника"
   ]
  },
  {
   "cell_type": "code",
   "execution_count": 9,
   "metadata": {
    "collapsed": true
   },
   "outputs": [],
   "source": [
    "sql_2 = '''\n",
    "SELECT\n",
    "    OWNER_OWNER_PASSPORT,\n",
    "    count(*) count_computer\n",
    "from computer\n",
    "group by OWNER_OWNER_PASSPORT\n",
    "'''"
   ]
  },
  {
   "cell_type": "code",
   "execution_count": 10,
   "metadata": {},
   "outputs": [],
   "source": [
    "df = pd.read_sql_query(sql_2, connection)"
   ]
  },
  {
   "cell_type": "code",
   "execution_count": 11,
   "metadata": {},
   "outputs": [],
   "source": [
    "data = [\n",
    "    go.Pie(\n",
    "        labels=df['OWNER_OWNER_PASSPORT'], \n",
    "        values=df['COUNT_COMPUTER']\n",
    "    )\n",
    "]\n",
    "\n",
    "layout = go.Layout(title='Count computer in owner')\n",
    "\n",
    "fig = go.Figure(data=data, layout=layout)\n",
    "\n",
    "count_computer_owner = py.iplot(fig, filename='count-computer-owner')"
   ]
  },
  {
   "cell_type": "code",
   "execution_count": 12,
   "metadata": {},
   "outputs": [
    {
     "data": {
      "text/html": [
       "<iframe id=\"igraph\" scrolling=\"no\" style=\"border:none;\" seamless=\"seamless\" src=\"https://plot.ly/~adamobskiy/11.embed\" height=\"525px\" width=\"100%\"></iframe>"
      ],
      "text/plain": [
       "<plotly.tools.PlotlyDisplay object>"
      ]
     },
     "execution_count": 12,
     "metadata": {},
     "output_type": "execute_result"
    }
   ],
   "source": [
    "count_computer_owner"
   ]
  },
  {
   "cell_type": "markdown",
   "metadata": {},
   "source": [
    "### Вивисти динаміку росту кількості вироблених деталей"
   ]
  },
  {
   "cell_type": "code",
   "execution_count": 13,
   "metadata": {},
   "outputs": [],
   "source": [
    "sql_3 = '''\n",
    "SELECT\n",
    "    date_create,\n",
    "    COUNT(serial_number) count_hardware\n",
    "FROM\n",
    "    hardware\n",
    "GROUP BY\n",
    "    date_create\n",
    "ORDER BY\n",
    "    date_create\n",
    "'''"
   ]
  },
  {
   "cell_type": "code",
   "execution_count": 14,
   "metadata": {},
   "outputs": [],
   "source": [
    "df = pd.read_sql_query(sql_3, connection)"
   ]
  },
  {
   "cell_type": "code",
   "execution_count": 15,
   "metadata": {},
   "outputs": [],
   "source": [
    "data = [go.Scatter(\n",
    "    x=df['DATE_CREATE'],\n",
    "    y=df['COUNT_HARDWARE'],\n",
    "    mode='lines+markers'\n",
    ")]\n",
    "\n",
    "layout = go.Layout(\n",
    "    title='Date and Count hardware',\n",
    "    xaxis=dict(\n",
    "        title='Date',\n",
    "        titlefont=dict(\n",
    "            family='Courier New, monospace',\n",
    "            size=18,\n",
    "            color='#7f7f7f'\n",
    "        )\n",
    "    ),\n",
    "    yaxis=dict(\n",
    "        title='Count hardware',\n",
    "        rangemode='nonnegative',\n",
    "        autorange=True,\n",
    "        titlefont=dict(\n",
    "            family='Courier New, monospace',\n",
    "            size=18,\n",
    "            color='#7f7f7f'\n",
    "        )\n",
    "    )\n",
    ")\n",
    "\n",
    "fig = go.Figure(data=data, layout=layout)\n",
    "\n",
    "date_count_hardware = py.iplot(fig, filename='date-count-hardware')"
   ]
  },
  {
   "cell_type": "code",
   "execution_count": 16,
   "metadata": {
    "scrolled": false
   },
   "outputs": [
    {
     "data": {
      "text/html": [
       "<iframe id=\"igraph\" scrolling=\"no\" style=\"border:none;\" seamless=\"seamless\" src=\"https://plot.ly/~adamobskiy/13.embed\" height=\"525px\" width=\"100%\"></iframe>"
      ],
      "text/plain": [
       "<plotly.tools.PlotlyDisplay object>"
      ]
     },
     "execution_count": 16,
     "metadata": {},
     "output_type": "execute_result"
    }
   ],
   "source": [
    "date_count_hardware"
   ]
  },
  {
   "cell_type": "code",
   "execution_count": 17,
   "metadata": {},
   "outputs": [
    {
     "data": {
      "text/plain": [
       "'https://plot.ly/~adamobskiy/8/untitled-dashboard/'"
      ]
     },
     "execution_count": 17,
     "metadata": {},
     "output_type": "execute_result"
    }
   ],
   "source": [
    "my_dboard = dashboard.Dashboard()\n",
    " \n",
    "soft_name_len_desc_id = fileId_from_url(soft_name_len_desc.resource)\n",
    "count_computer_owner_id = fileId_from_url(count_computer_owner.resource)\n",
    "date_count_hardware_id = fileId_from_url(date_count_hardware.resource)\n",
    " \n",
    "box_1 = {\n",
    "    'type': 'box',\n",
    "    'boxType': 'plot',\n",
    "    'fileId': soft_name_len_desc_id,\n",
    "    'title': 'Soft name and Len description'\n",
    "}\n",
    " \n",
    "box_2 = {\n",
    "    'type': 'box',\n",
    "    'boxType': 'plot',\n",
    "    'fileId': count_computer_owner_id,\n",
    "    'title': 'Count computer in owner'\n",
    "}\n",
    " \n",
    "box_3 = {\n",
    "    'type': 'box',\n",
    "    'boxType': 'plot',\n",
    "    'fileId': date_count_hardware_id,\n",
    "    'title': 'Date and Count hardware'\n",
    "}\n",
    " \n",
    "my_dboard.insert(box_1)\n",
    "my_dboard.insert(box_2, 'below', 1)\n",
    "my_dboard.insert(box_3, 'left', 2)\n",
    "\n",
    "py.dashboard_ops.upload(my_dboard, 'My First Dashboard with Python')"
   ]
  }
 ],
 "metadata": {
  "kernelspec": {
   "display_name": "Python 3",
   "language": "python",
   "name": "python3"
  },
  "language_info": {
   "codemirror_mode": {
    "name": "ipython",
    "version": 3
   },
   "file_extension": ".py",
   "mimetype": "text/x-python",
   "name": "python",
   "nbconvert_exporter": "python",
   "pygments_lexer": "ipython3",
   "version": "3.6.3"
  }
 },
 "nbformat": 4,
 "nbformat_minor": 2
}
