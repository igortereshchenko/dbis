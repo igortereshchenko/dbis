{
 "cells": [
  {
   "cell_type": "code",
   "execution_count": 1,
   "metadata": {},
   "outputs": [],
   "source": [
    "import csv\n",
    "import cx_Oracle"
   ]
  },
  {
   "cell_type": "code",
   "execution_count": 2,
   "metadata": {},
   "outputs": [],
   "source": [
    "connection = cx_Oracle.connect(\"mGaleta\", \"123456\", \"localhost:1521/xe\")\n",
    " \n",
    "cursor_hardware = connection.cursor()"
   ]
  },
  {
   "cell_type": "code",
   "execution_count": 4,
   "metadata": {},
   "outputs": [],
   "source": [
    "cursor_hardware.execute(\"\"\"\n",
    "SELECT\n",
    "    TRIM(part) as part,\n",
    "    TRIM(part_name) as part_name,\n",
    "    TRIM(model_) as model_,\n",
    "    TRIM(type_) as type_\n",
    "FROM\n",
    "    Hardware\"\"\")\n",
    "\n",
    " \n",
    "for part, part_name, model_, type_ in cursor_hardware:\n",
    " \n",
    "    with open(\"hardware_\"+part+\".csv\", \"w\", newline=\"\") as file:\n",
    "        writer = csv.writer(file)\n",
    " \n",
    "        writer.writerow([\"Part\", part])\n",
    "        writer.writerow([\"Part_name\", part_name])\n",
    "        writer.writerow([\"Model\", model_])\n",
    "        writer.writerow([\"Type\", type_])\n",
    " \n",
    "        cursor_computer = connection.cursor()\n",
    " \n",
    "        query = \"\"\"\n",
    "                    SELECT\n",
    "                        part,\n",
    "                        programs,\n",
    "                        name_,\n",
    "                        color\n",
    "                    FROM\n",
    "                        Hardware NATURAL JOIN Computer\n",
    "                    WHERE TRIM(part) = :id\"\"\"\n",
    " \n",
    "        cursor_computer.execute(query, id = part)\n",
    "        writer.writerow([])\n",
    "        writer.writerow([\"Computer part\", \"Computer programs\", \"Computer name\", \"Computer color\"])\n",
    "        for computer_row in cursor_computer:\n",
    "            writer.writerow(computer_row)\n",
    "\n",
    "cursor_hardware.close()"
   ]
  },
  {
   "cell_type": "code",
   "execution_count": null,
   "metadata": {},
   "outputs": [],
   "source": []
  }
 ],
 "metadata": {
  "kernelspec": {
   "display_name": "Python 3",
   "language": "python",
   "name": "python3"
  },
  "language_info": {
   "codemirror_mode": {
    "name": "ipython",
    "version": 3
   },
   "file_extension": ".py",
   "mimetype": "text/x-python",
   "name": "python",
   "nbconvert_exporter": "python",
   "pygments_lexer": "ipython3",
   "version": "3.6.4"
  }
 },
 "nbformat": 4,
 "nbformat_minor": 2
}
