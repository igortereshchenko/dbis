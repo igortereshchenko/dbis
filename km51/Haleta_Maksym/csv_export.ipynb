{
 "cells": [
  {
   "cell_type": "code",
   "execution_count": 81,
   "metadata": {},
   "outputs": [],
   "source": [
    "import csv\n",
    "import cx_Oracle"
   ]
  },
  {
   "cell_type": "code",
   "execution_count": 82,
   "metadata": {},
   "outputs": [],
   "source": [
    "connection = cx_Oracle.connect(\"mGaleta\", \"123456\", \"localhost:1521/xe\")\n",
    " \n",
    "cursor_computer = connection.cursor()"
   ]
  },
  {
   "cell_type": "code",
   "execution_count": 83,
   "metadata": {},
   "outputs": [],
   "source": [
    "cursor_computer.execute(\"\"\"\n",
    "SELECT\n",
    "    TRIM(part) as part,\n",
    "    TRIM(programs) as programs,\n",
    "    TRIM(name_) as name_,\n",
    "    TRIM(color) as color\n",
    "FROM\n",
    "    Computer\"\"\")\n",
    "\n",
    " \n",
    "for part, programs, name_, color in cursor_computer:\n",
    " \n",
    "    with open(\"computer_\"+part+\".csv\", \"w\", newline=\"\") as file:\n",
    "        writer = csv.writer(file)\n",
    " \n",
    "        writer.writerow([\"Part\", part_fk])\n",
    "        writer.writerow([\"Programs\", programs_fk])\n",
    "        writer.writerow([\"Name\", name_])\n",
    "        writer.writerow([\"Color\", color])\n",
    " \n",
    "        cursor_hardware = connection.cursor()\n",
    " \n",
    "        query = \"\"\"\n",
    "                    SELECT\n",
    "                        part,\n",
    "                        part_name,\n",
    "                        model_,\n",
    "                        type_\n",
    "                    FROM\n",
    "                        Hardware NATURAL JOIN Computer\n",
    "                    WHERE TRIM(part) = :id\"\"\"\n",
    " \n",
    "        cursor_hardware.execute(query, id = part)\n",
    "        writer.writerow([])\n",
    "        writer.writerow([\"Hardware part\", \"Hardware part_name\", \"Hardware model\", \"Hardware type\"])\n",
    "        for hardware_row in cursor_hardware:\n",
    "            writer.writerow(hardware_row)\n",
    "\n",
    "cursor_computer.close()"
   ]
  },
  {
   "cell_type": "code",
   "execution_count": null,
   "metadata": {},
   "outputs": [],
   "source": []
  }
 ],
 "metadata": {
  "kernelspec": {
   "display_name": "Python 3",
   "language": "python",
   "name": "python3"
  },
  "language_info": {
   "codemirror_mode": {
    "name": "ipython",
    "version": 3
   },
   "file_extension": ".py",
   "mimetype": "text/x-python",
   "name": "python",
   "nbconvert_exporter": "python",
   "pygments_lexer": "ipython3",
   "version": "3.6.4"
  }
 },
 "nbformat": 4,
 "nbformat_minor": 2
}
