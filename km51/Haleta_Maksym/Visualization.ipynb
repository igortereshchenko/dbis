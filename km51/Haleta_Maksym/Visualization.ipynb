{
 "cells": [
  {
   "cell_type": "code",
   "execution_count": 49,
   "metadata": {},
   "outputs": [],
   "source": [
    "import plotly\n",
    "plotly.tools.set_credentials_file(username='mGaleta', api_key='2UGKORrHqi3d1Q8LyYGU')"
   ]
  },
  {
   "cell_type": "code",
   "execution_count": 50,
   "metadata": {},
   "outputs": [],
   "source": [
    "import cx_Oracle\n",
    "import plotly.plotly as py\n",
    "import plotly.graph_objs as go\n",
    "import re\n",
    "import plotly.dashboard_objs as dashboard"
   ]
  },
  {
   "cell_type": "code",
   "execution_count": 51,
   "metadata": {},
   "outputs": [],
   "source": [
    "def fileId_from_url(url):\n",
    "    \"\"\"Return fileId from a url.\"\"\"\n",
    "    raw_fileId = re.findall(\"~[A-z.]+/[0-9]+\", url)[0][1: ]\n",
    "    return raw_fileId.replace('/', ':')"
   ]
  },
  {
   "cell_type": "code",
   "execution_count": 52,
   "metadata": {},
   "outputs": [],
   "source": [
    "connection = cx_Oracle.connect(\"mGaleta\", \"123456\", \"localhost:1521/xe\")"
   ]
  },
  {
   "cell_type": "code",
   "execution_count": 53,
   "metadata": {},
   "outputs": [],
   "source": [
    "cursor = connection.cursor()"
   ]
  },
  {
   "cell_type": "code",
   "execution_count": 54,
   "metadata": {},
   "outputs": [
    {
     "name": "stdout",
     "output_type": "stream",
     "text": [
      "Programmer:  John  and his number of programs:  1\n",
      "Programmer:  David  and his number of programs:  1\n",
      "Programmer:  Max  and his number of programs:  2\n"
     ]
    }
   ],
   "source": [
    "'''create plot 1  Вивести імена програмістів та кількість програм які він написав'''\n",
    "\n",
    "cursor.execute(\"\"\"\n",
    "    SELECT\n",
    "        Programmer.name_,\n",
    "        COUNT(Software.programs) AS number_of_programs\n",
    "    FROM\n",
    "        Programmer LEFT JOIN Software\n",
    "        ON Programmer.programmer_id = Software.programmer_fk\n",
    "    GROUP BY\n",
    "        Programmer.name_\n",
    "\"\"\")\n",
    " \n",
    "name_ = []\n",
    "number_of_programs = []\n",
    " \n",
    " \n",
    " \n",
    "for row in cursor:\n",
    "    print(\"Programmer: \",row[0],\" and his number of programs: \",row[1])\n",
    "    name_ += [row[0]]\n",
    "    number_of_programs += [row[1]]\n",
    " \n",
    " \n",
    "data = [go.Bar(\n",
    "            x=name_,\n",
    "            y=number_of_programs\n",
    "    )]\n",
    " \n",
    "layout = go.Layout(\n",
    "    title='Programmers and number of programs',\n",
    "    xaxis=dict(\n",
    "        title='Programmers',\n",
    "        titlefont=dict(\n",
    "            family='Courier New, monospace',\n",
    "            size=18,\n",
    "            color='#7f7f7f'\n",
    "        )\n",
    "    ),\n",
    "    yaxis=dict(\n",
    "        title='Number of programs',\n",
    "        rangemode='nonnegative',\n",
    "        autorange=True,\n",
    "        titlefont=dict(\n",
    "            family='Courier New, monospace',\n",
    "            size=18,\n",
    "            color='#7f7f7f'\n",
    "        )\n",
    "    )\n",
    ")\n",
    "fig = go.Figure(data=data, layout=layout)\n",
    " \n",
    "programmers_number_of_programs = py.plot(fig, filename='programmers-number-of-programs')"
   ]
  },
  {
   "cell_type": "code",
   "execution_count": 55,
   "metadata": {},
   "outputs": [
    {
     "name": "stdout",
     "output_type": "stream",
     "text": [
      " Programmer  John  and his number of programs:  1\n",
      " Programmer  David  and his number of programs:  1\n",
      " Programmer  Max  and his number of programs:  2\n"
     ]
    }
   ],
   "source": [
    "'''create plot 2  Вивести ім'я програміста та відсоток написаних ним програм відносно всіх програм'''\n",
    "cursor.execute(\"\"\"\n",
    "    SELECT\n",
    "        Programmer.name_,\n",
    "        COUNT(Software.programs) AS number_of_programs\n",
    "    FROM\n",
    "        Programmer LEFT JOIN Software\n",
    "        ON Programmer.programmer_id = Software.programmer_fk\n",
    "    GROUP BY\n",
    "        Programmer.name_\n",
    "\"\"\");\n",
    " \n",
    "name_ = []\n",
    "count_programs = []\n",
    "\n",
    " \n",
    "for row in cursor:\n",
    "    print(\" Programmer \",row[0],\" and his number of programs: \",row[1])\n",
    "    name_ += [row[0]]\n",
    "    count_programs += [row[1]]\n",
    " \n",
    " \n",
    "pie = go.Pie(labels=name_, values=count_programs)\n",
    "programmers_program_count = py.plot([pie], filename='programmers-program-count')"
   ]
  },
  {
   "cell_type": "code",
   "execution_count": 57,
   "metadata": {},
   "outputs": [
    {
     "data": {
      "text/plain": [
       "'https://plot.ly/~mGaleta/4/untitled-dashboard/'"
      ]
     },
     "execution_count": 57,
     "metadata": {},
     "output_type": "execute_result"
    }
   ],
   "source": [
    "my_dboard = dashboard.Dashboard()\n",
    " \n",
    "programmers_number_of_programs_id = fileId_from_url(programmers_number_of_programs)\n",
    "programmers_program_count_id = fileId_from_url(programmers_program_count)\n",
    " \n",
    "box_1 = {\n",
    "    'type': 'box',\n",
    "    'boxType': 'plot',\n",
    "    'fileId': programmers_number_of_programs_id,\n",
    "    'title': 'Programmers and number of programs'\n",
    "}\n",
    " \n",
    "box_2 = {\n",
    "    'type': 'box',\n",
    "    'boxType': 'plot',\n",
    "    'fileId': programmers_program_count_id,\n",
    "    'title': 'Programmers and number of programs'\n",
    "}\n",
    " \n",
    "\n",
    "my_dboard.insert(box_1)\n",
    "my_dboard.insert(box_2, 'below', 1)\n",
    "\n",
    "py.dashboard_ops.upload(my_dboard, 'My First Dashboard with Python')"
   ]
  },
  {
   "cell_type": "code",
   "execution_count": null,
   "metadata": {},
   "outputs": [],
   "source": []
  }
 ],
 "metadata": {
  "kernelspec": {
   "display_name": "Python 3",
   "language": "python",
   "name": "python3"
  },
  "language_info": {
   "codemirror_mode": {
    "name": "ipython",
    "version": 3
   },
   "file_extension": ".py",
   "mimetype": "text/x-python",
   "name": "python",
   "nbconvert_exporter": "python",
   "pygments_lexer": "ipython3",
   "version": "3.6.4"
  }
 },
 "nbformat": 4,
 "nbformat_minor": 2
}
