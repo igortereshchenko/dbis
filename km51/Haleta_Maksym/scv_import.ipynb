{
 "cells": [
  {
   "cell_type": "code",
   "execution_count": null,
   "metadata": {},
   "outputs": [],
   "source": [
    "import csv\n",
    "import cx_Oracle"
   ]
  },
  {
   "cell_type": "code",
   "execution_count": null,
   "metadata": {},
   "outputs": [],
   "source": [
    "connection = cx_Oracle.connect(\"mGaleta\", \"123456\", \"localhost:1521/xe\")\n",
    " \n",
    "filename = \"hardware_motherboard.csv\""
   ]
  },
  {
   "cell_type": "code",
   "execution_count": null,
   "metadata": {},
   "outputs": [],
   "source": [
    "with open(filename, newline='') as file:\n",
    "    reader = csv.reader(file)\n",
    " \n",
    "    part_id = next(reader)[1]\n",
    "    part_name_id = next(reader)[1]\n",
    "    model_id = next(reader)[1]\n",
    "    type_id = next(reader)[1]\n",
    " \n",
    "    insert_query = \"insert into hardware(part, part_name, model_, type_) values (:part, :part_name, :model_, :type_)\"\n",
    "    cursor_hardware = connection.cursor()\n",
    "    cursor_hardware.execute(insert_query, part = part_id, part_name = part_name_id, model_ = model_id, type_ = type_id)\n",
    "    cursor_hardware.close()\n",
    " \n",
    "    connection.commit()\n",
    " \n",
    "    next(reader, None)\n",
    "    next(reader, None)\n",
    " \n",
    "    insert_query = \"INSERT INTO computer (part, programs, name_, color) VALUES (:part, :programs, :name_, color)\"\n",
    "    cursor_computer = connection.cursor()\n",
    " \n",
    "    cursor_computer.prepare (insert_query)\n",
    " \n",
    "    rows = []\n",
    "    for row in reader:\n",
    "        rows.append(row+[id])\n",
    " \n",
    "    cursor_computer.executemany(None, rows)\n",
    " \n",
    "    cursor_computer.close()\n",
    "    connection.commit()"
   ]
  }
 ],
 "metadata": {
  "kernelspec": {
   "display_name": "Python 3",
   "language": "python",
   "name": "python3"
  },
  "language_info": {
   "codemirror_mode": {
    "name": "ipython",
    "version": 3
   },
   "file_extension": ".py",
   "mimetype": "text/x-python",
   "name": "python",
   "nbconvert_exporter": "python",
   "pygments_lexer": "ipython3",
   "version": "3.6.4"
  }
 },
 "nbformat": 4,
 "nbformat_minor": 2
}
