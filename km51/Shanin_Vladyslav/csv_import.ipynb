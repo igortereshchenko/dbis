{
 "cells": [
  {
   "cell_type": "code",
   "execution_count": 7,
   "metadata": {
    "collapsed": true
   },
   "outputs": [],
   "source": [
    "import csv\n",
    "import cx_Oracle"
   ]
  },
  {
   "cell_type": "code",
   "execution_count": 8,
   "metadata": {
    "collapsed": true
   },
   "outputs": [],
   "source": [
    "connection = cx_Oracle.connect(\"SYSTEM\", \"1111\", \"xe\")"
   ]
  },
  {
   "cell_type": "code",
   "execution_count": 28,
   "metadata": {},
   "outputs": [],
   "source": [
    "filename = \"person_1.csv\"\n",
    "\n",
    "with open(filename, newline='') as file:\n",
    "    reader = csv.reader(file)\n",
    "    \n",
    "    person_id = next(reader)[1]\n",
    "    person_name = next(reader)[1]\n",
    "    \n",
    "    insert_query = \"insert into person(person_id, person_name) values (:person_id, :person_name)\"\n",
    "    cursor_customer = connection.cursor()\n",
    "    cursor_customer.execute(insert_query, person_id=person_id, person_name=person_name)\n",
    "    cursor_customer.close()\n",
    "    \n",
    "    connection.commit()\n",
    "    next(reader, None)\n",
    "    next(reader, None)\n",
    "    \n",
    "    insert_query = \"\"\"\n",
    "        INSERT INTO dance (song_id, person_id, dance_date) \n",
    "            VALUES (:song_id, :song_id, TO_DATE(:dance_date, 'yyyy-mm-dd'))\n",
    "        \"\"\"\n",
    "    \n",
    "    rows = []\n",
    "    for row in reader:\n",
    "        s_name, s_id, d_date = tuple(row)\n",
    "        rows.append([int(s_id), int(person_id), d_date[:10]])\n",
    "        \n",
    "    cursor_dance = connection.cursor()\n",
    "    cursor_dance.prepare(insert_query)\n",
    "    cursor_dance.executemany(None, rows)\n",
    "    \n",
    "    cursor_dance.close()\n",
    "    connection.commit() "
   ]
  },
  {
   "cell_type": "code",
   "execution_count": null,
   "metadata": {
    "collapsed": true
   },
   "outputs": [],
   "source": []
  },
  {
   "cell_type": "code",
   "execution_count": null,
   "metadata": {
    "collapsed": true
   },
   "outputs": [],
   "source": []
  }
 ],
 "metadata": {
  "kernelspec": {
   "display_name": "Python 3",
   "language": "python",
   "name": "python3"
  },
  "language_info": {
   "codemirror_mode": {
    "name": "ipython",
    "version": 3
   },
   "file_extension": ".py",
   "mimetype": "text/x-python",
   "name": "python",
   "nbconvert_exporter": "python",
   "pygments_lexer": "ipython3",
   "version": "3.6.3"
  }
 },
 "nbformat": 4,
 "nbformat_minor": 2
}
