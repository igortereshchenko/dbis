{
 "cells": [
  {
   "cell_type": "code",
   "execution_count": 1,
   "metadata": {
    "collapsed": true
   },
   "outputs": [],
   "source": [
    "import cx_Oracle\n",
    "import csv"
   ]
  },
  {
   "cell_type": "code",
   "execution_count": 2,
   "metadata": {
    "collapsed": true
   },
   "outputs": [],
   "source": [
    "connection = cx_Oracle.connect(\"SYSTEM\", \"1111\", \"xe\")"
   ]
  },
  {
   "cell_type": "code",
   "execution_count": 3,
   "metadata": {
    "collapsed": true
   },
   "outputs": [],
   "source": [
    "cursor_person = connection.cursor()\n",
    "cursor_person.execute(\"\"\"\n",
    "SELECT\n",
    "    TRIM(person_id) as person_id,\n",
    "    TRIM(person_name) as person_name\n",
    "FROM\n",
    "    Person\"\"\")\n",
    "\n",
    "for person_id, person_name in cursor_person:\n",
    "    with open(\"person_\" + person_id + \".csv\", \"w\", newline=\"\") as file:\n",
    "        writer = csv.writer(file) \n",
    "        \n",
    "        writer.writerow([\"ID\", person_id])\n",
    "        writer.writerow([\"Name\", person_name])\n",
    "\n",
    "        cursor_songs = connection.cursor()\n",
    "        query = \"\"\"\n",
    "                    SELECT\n",
    "                        Song.SONG_NAME,\n",
    "                        Song.SONG_ID,\n",
    "                        Dance.DANCE_DATE\n",
    "                    FROM\n",
    "                        Dance \n",
    "                            JOIN Person ON Dance.PERSON_ID = Person.PERSON_ID\n",
    "                            JOIN Song ON Song.SONG_ID = Dance.SONG_ID\n",
    "                    WHERE \n",
    "                        Person.PERSON_ID = :pid\n",
    "                \"\"\"\n",
    "        \n",
    "        cursor_songs.execute(query, pid=person_id)\n",
    "        writer.writerow([])\n",
    "        writer.writerow([\"Song name\", \"Song id\", \"Dance date\"])\n",
    "        \n",
    "        for song_row in cursor_songs:\n",
    "            writer.writerow(song_row)\n",
    "            \n",
    "cursor_person.close()"
   ]
  },
  {
   "cell_type": "code",
   "execution_count": null,
   "metadata": {
    "collapsed": true
   },
   "outputs": [],
   "source": []
  }
 ],
 "metadata": {
  "kernelspec": {
   "display_name": "Python 3",
   "language": "python",
   "name": "python3"
  },
  "language_info": {
   "codemirror_mode": {
    "name": "ipython",
    "version": 3
   },
   "file_extension": ".py",
   "mimetype": "text/x-python",
   "name": "python",
   "nbconvert_exporter": "python",
   "pygments_lexer": "ipython3",
   "version": "3.6.3"
  }
 },
 "nbformat": 4,
 "nbformat_minor": 2
}
