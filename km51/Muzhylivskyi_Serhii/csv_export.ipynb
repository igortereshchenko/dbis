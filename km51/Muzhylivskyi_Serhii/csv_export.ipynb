{
 "cells": [
  {
   "cell_type": "code",
   "execution_count": 11,
   "metadata": {},
   "outputs": [],
   "source": [
    "import csv\n",
    " \n",
    "import cx_Oracle"
   ]
  },
  {
   "cell_type": "code",
   "execution_count": 12,
   "metadata": {},
   "outputs": [],
   "source": [
    "connection = cx_Oracle.connect(\"Muzhylivskyi\", \"S5116951169\", \"XE\")"
   ]
  },
  {
   "cell_type": "code",
   "execution_count": 13,
   "metadata": {},
   "outputs": [],
   "source": [
    "cursor_hardware = connection.cursor()"
   ]
  },
  {
   "cell_type": "code",
   "execution_count": 14,
   "metadata": {},
   "outputs": [
    {
     "data": {
      "text/plain": [
       "<cx_Oracle.Cursor on <cx_Oracle.Connection to Muzhylivskyi@XE>>"
      ]
     },
     "execution_count": 14,
     "metadata": {},
     "output_type": "execute_result"
    }
   ],
   "source": [
    "cursor_hardware.execute(\"\"\"\n",
    "SELECT * FROM HARDWARE \n",
    "\"\"\")"
   ]
  },
  {
   "cell_type": "code",
   "execution_count": 15,
   "metadata": {},
   "outputs": [],
   "source": [
    "for hardware_id, motherbaord_id, processor_id, hard_disk_id in cursor_hardware:\n",
    " \n",
    "    with open(\"hardware_\"+str(hardware_id)+\".csv\", \"w\", newline=\"\") as file:\n",
    "        writer = csv.writer(file)\n",
    " \n",
    "        writer.writerow([\"ID\", hardware_id])\n",
    "        writer.writerow([\"Motherboard ID\", motherbaord_id])\n",
    "        writer.writerow([\"Processor ID\", processor_id])\n",
    "        writer.writerow([\"Hard Disk ID\", hard_disk_id])\n",
    " \n",
    "        cursor_hard_disk = connection.cursor()\n",
    " \n",
    "        query = \"\"\"\n",
    "                    SELECT\n",
    "                        * \n",
    "                    FROM\n",
    "                        HARDWARE NATURAL JOIN HARD_DISK\n",
    "                    WHERE serial_number = :id\"\"\"\n",
    " \n",
    "        cursor_hard_disk.execute(query, id = hard_disk_id)\n",
    "        writer.writerow([])\n",
    "        writer.writerow([\"Serial number\", \"Name\", \"Spins\", \"Memory\"])\n",
    "        for order_row in cursor_hard_disk:\n",
    "            writer.writerow(order_row)\n",
    " \n",
    "cursor_hardware.close()"
   ]
  }
 ],
 "metadata": {
  "kernelspec": {
   "display_name": "Python 3",
   "language": "python",
   "name": "python3"
  },
  "language_info": {
   "codemirror_mode": {
    "name": "ipython",
    "version": 3
   },
   "file_extension": ".py",
   "mimetype": "text/x-python",
   "name": "python",
   "nbconvert_exporter": "python",
   "pygments_lexer": "ipython3",
   "version": "3.6.4"
  }
 },
 "nbformat": 4,
 "nbformat_minor": 2
}
