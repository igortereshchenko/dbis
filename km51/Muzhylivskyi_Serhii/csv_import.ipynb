{
 "cells": [
  {
   "cell_type": "code",
   "execution_count": 1,
   "metadata": {},
   "outputs": [],
   "source": [
    "import csv\n",
    " \n",
    "import cx_Oracle"
   ]
  },
  {
   "cell_type": "code",
   "execution_count": 2,
   "metadata": {},
   "outputs": [],
   "source": [
    "connection = cx_Oracle.connect(\"Muzhylivskyi\", \"S5116951169\", \"XE\")"
   ]
  },
  {
   "cell_type": "code",
   "execution_count": 3,
   "metadata": {},
   "outputs": [],
   "source": [
    "filename = \"hardware_1.csv\""
   ]
  },
  {
   "cell_type": "code",
   "execution_count": 4,
   "metadata": {},
   "outputs": [],
   "source": [
    "with open(filename, newline='') as file:\n",
    "    reader = csv.reader(file)\n",
    "    \n",
    "    hardware = next(reader)[1]\n",
    "    motherbaord = next(reader)[1]\n",
    "    processor = next(reader)[1]\n",
    "    hard_disk = next(reader)[1]\n",
    "    \n",
    "    insert = \"INSERT INTO HARDWARE(hardware_id, motherbaord_id, processor_id, hard_disk_id) VALUES (:hardware_id, :motherbaord_id, :processor_id, :hard_disk_id)\"\n",
    "    \n",
    "    cursor_hardware = connection.cursor()\n",
    "    cursor_hardware.execute(insert, hardware_id = hardware, \n",
    "                            motherbaord_id = motherboard, processor_id = processor, hard_disk_id = hard_disk)\n",
    "    \n",
    "    cursor_hardware.close()\n",
    "    \n",
    "    connection.commit()\n",
    "    next(reader, None) \n",
    "    next(reader, None)\n",
    "    \n",
    "    insert = \"INSERT INTO HARD_DISK (serial_number, name, spins, amount_of_memory) VALUES (:serial_number, :name, :spins, :amount_of_memory)\"\n",
    "    \n",
    "    cursor_hard_disk = connection.cursor()\n",
    "    cursor_hard_disk.prepare(insert)\n",
    "    \n",
    "    rows=[]\n",
    "    \n",
    "    for row in reader:\n",
    "        rows.appned(row+[id])\n",
    "        \n",
    "    cursor_hard_disk.executemany(None, rows)\n",
    "    cursor_hard_disk.close()\n",
    "    connection.commit()"
   ]
  }
 ],
 "metadata": {
  "kernelspec": {
   "display_name": "Python 3",
   "language": "python",
   "name": "python3"
  },
  "language_info": {
   "codemirror_mode": {
    "name": "ipython",
    "version": 3
   },
   "file_extension": ".py",
   "mimetype": "text/x-python",
   "name": "python",
   "nbconvert_exporter": "python",
   "pygments_lexer": "ipython3",
   "version": "3.6.4"
  }
 },
 "nbformat": 4,
 "nbformat_minor": 2
}
